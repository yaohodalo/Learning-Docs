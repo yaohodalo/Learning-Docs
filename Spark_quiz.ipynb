{
 "cells": [
  {
   "cell_type": "code",
   "execution_count": null,
   "metadata": {},
   "outputs": [],
   "source": [
    "#  UDEMY LEARNING QUIZ"
   ]
  },
  {
   "cell_type": "code",
   "execution_count": 2,
   "metadata": {},
   "outputs": [],
   "source": [
    "from pyspark.sql import SparkSession\n",
    "from pyspark.sql.types import *\n",
    "from pyspark.sql.functions import *\n"
   ]
  },
  {
   "cell_type": "code",
   "execution_count": 3,
   "metadata": {},
   "outputs": [],
   "source": [
    "spark = SparkSession.builder.appName('Quiz').getOrCreate()"
   ]
  },
  {
   "cell_type": "code",
   "execution_count": 4,
   "metadata": {},
   "outputs": [
    {
     "name": "stdout",
     "output_type": "stream",
     "text": [
      "+---+------+----------------+------+------+-----+--------------------+\n",
      "|age|gender|            name|course|  roll|marks|               email|\n",
      "+---+------+----------------+------+------+-----+--------------------+\n",
      "| 28|Female| Hubert Oliveras|    DB| 02984|   59|Annika Hoffman_Na...|\n",
      "| 29|Female|Toshiko Hillyard| Cloud| 12899|   62|Margene Moores_Ma...|\n",
      "| 28|  Male|  Celeste Lollis|    PF| 21267|   45|Jeannetta Golden_...|\n",
      "| 29|Female|    Elenore Choy|    DB| 32877|   29|Billi Clore_Mitzi...|\n",
      "| 28|  Male|  Sheryll Towler|   DSA| 41487|   41|Claude Panos_Judi...|\n",
      "| 28|  Male|  Margene Moores|   MVC| 52771|   32|Toshiko Hillyard_...|\n",
      "| 28|  Male|     Neda Briski|   OOP| 61973|   69|Alberta Freund_El...|\n",
      "| 28|Female|    Claude Panos| Cloud| 72409|   85|Sheryll Towler_Al...|\n",
      "| 28|  Male|  Celeste Lollis|   MVC| 81492|   64|Nicole Harwood_Cl...|\n",
      "| 29|  Male|  Cordie Harnois|   OOP| 92882|   51|Judie Chipps_Clem...|\n",
      "| 29|Female|       Kena Wild|   DSA|102285|   35|Dustin Feagins_Ma...|\n",
      "| 29|  Male| Ernest Rossbach|    DB|111449|   53|Maybell Duguay_Ab...|\n",
      "| 28|Female|  Latia Vanhoose|    DB|122502|   27|Latia Vanhoose_Mi...|\n",
      "| 29|Female|  Latia Vanhoose|   MVC|132110|   55|Eda Neathery_Nico...|\n",
      "| 29|  Male|     Neda Briski|    PF|141770|   42|Margene Moores_Mi...|\n",
      "| 29|Female|  Latia Vanhoose|    DB|152159|   27|Claude Panos_Sant...|\n",
      "| 29|  Male|  Loris Crossett|   MVC|161771|   36|Mitzi Seldon_Jenn...|\n",
      "| 29|  Male|  Annika Hoffman|   OOP|171660|   22|Taryn Brownlee_Mi...|\n",
      "| 29|  Male|   Santa Kerfien|    PF|182129|   56|Judie Chipps_Tary...|\n",
      "| 28|Female|Mickey Cortright|    DB|192537|   62|Ernest Rossbach_M...|\n",
      "+---+------+----------------+------+------+-----+--------------------+\n",
      "only showing top 20 rows\n",
      "\n"
     ]
    }
   ],
   "source": [
    "file_path = '/SPARK/data/studentData.csv'\n",
    "df = spark.read.csv(file_path,header= True)\n",
    "df.show()"
   ]
  },
  {
   "cell_type": "code",
   "execution_count": 5,
   "metadata": {},
   "outputs": [
    {
     "name": "stdout",
     "output_type": "stream",
     "text": [
      "+---+------+----------------+------+------+-----+--------------------+-----------+\n",
      "|age|gender|            name|course|  roll|marks|               email|Total Marks|\n",
      "+---+------+----------------+------+------+-----+--------------------+-----------+\n",
      "| 28|Female| Hubert Oliveras|    DB| 02984|   59|Annika Hoffman_Na...|        120|\n",
      "| 29|Female|Toshiko Hillyard| Cloud| 12899|   62|Margene Moores_Ma...|        120|\n",
      "| 28|  Male|  Celeste Lollis|    PF| 21267|   45|Jeannetta Golden_...|        120|\n",
      "| 29|Female|    Elenore Choy|    DB| 32877|   29|Billi Clore_Mitzi...|        120|\n",
      "| 28|  Male|  Sheryll Towler|   DSA| 41487|   41|Claude Panos_Judi...|        120|\n",
      "| 28|  Male|  Margene Moores|   MVC| 52771|   32|Toshiko Hillyard_...|        120|\n",
      "| 28|  Male|     Neda Briski|   OOP| 61973|   69|Alberta Freund_El...|        120|\n",
      "| 28|Female|    Claude Panos| Cloud| 72409|   85|Sheryll Towler_Al...|        120|\n",
      "| 28|  Male|  Celeste Lollis|   MVC| 81492|   64|Nicole Harwood_Cl...|        120|\n",
      "| 29|  Male|  Cordie Harnois|   OOP| 92882|   51|Judie Chipps_Clem...|        120|\n",
      "| 29|Female|       Kena Wild|   DSA|102285|   35|Dustin Feagins_Ma...|        120|\n",
      "| 29|  Male| Ernest Rossbach|    DB|111449|   53|Maybell Duguay_Ab...|        120|\n",
      "| 28|Female|  Latia Vanhoose|    DB|122502|   27|Latia Vanhoose_Mi...|        120|\n",
      "| 29|Female|  Latia Vanhoose|   MVC|132110|   55|Eda Neathery_Nico...|        120|\n",
      "| 29|  Male|     Neda Briski|    PF|141770|   42|Margene Moores_Mi...|        120|\n",
      "| 29|Female|  Latia Vanhoose|    DB|152159|   27|Claude Panos_Sant...|        120|\n",
      "| 29|  Male|  Loris Crossett|   MVC|161771|   36|Mitzi Seldon_Jenn...|        120|\n",
      "| 29|  Male|  Annika Hoffman|   OOP|171660|   22|Taryn Brownlee_Mi...|        120|\n",
      "| 29|  Male|   Santa Kerfien|    PF|182129|   56|Judie Chipps_Tary...|        120|\n",
      "| 28|Female|Mickey Cortright|    DB|192537|   62|Ernest Rossbach_M...|        120|\n",
      "+---+------+----------------+------+------+-----+--------------------+-----------+\n",
      "only showing top 20 rows\n",
      "\n"
     ]
    }
   ],
   "source": [
    "# 1.) create a new column in the df for total marks and let the total marks be 120\n",
    "df_marks = df.withColumn('Total Marks', lit(120))\n",
    "df_marks.show()"
   ]
  },
  {
   "cell_type": "code",
   "execution_count": 6,
   "metadata": {},
   "outputs": [
    {
     "name": "stdout",
     "output_type": "stream",
     "text": [
      "+---+------+----------------+------+------+-----+--------------------+-----------+------------------+\n",
      "|age|gender|            name|course|  roll|marks|               email|Total Marks|           Average|\n",
      "+---+------+----------------+------+------+-----+--------------------+-----------+------------------+\n",
      "| 28|Female| Hubert Oliveras|    DB| 02984|   59|Annika Hoffman_Na...|        120|49.166666666666664|\n",
      "| 29|Female|Toshiko Hillyard| Cloud| 12899|   62|Margene Moores_Ma...|        120| 51.66666666666667|\n",
      "| 28|  Male|  Celeste Lollis|    PF| 21267|   45|Jeannetta Golden_...|        120|              37.5|\n",
      "| 29|Female|    Elenore Choy|    DB| 32877|   29|Billi Clore_Mitzi...|        120|24.166666666666668|\n",
      "| 28|  Male|  Sheryll Towler|   DSA| 41487|   41|Claude Panos_Judi...|        120|34.166666666666664|\n",
      "| 28|  Male|  Margene Moores|   MVC| 52771|   32|Toshiko Hillyard_...|        120|26.666666666666668|\n",
      "| 28|  Male|     Neda Briski|   OOP| 61973|   69|Alberta Freund_El...|        120| 57.49999999999999|\n",
      "| 28|Female|    Claude Panos| Cloud| 72409|   85|Sheryll Towler_Al...|        120| 70.83333333333334|\n",
      "| 28|  Male|  Celeste Lollis|   MVC| 81492|   64|Nicole Harwood_Cl...|        120|53.333333333333336|\n",
      "| 29|  Male|  Cordie Harnois|   OOP| 92882|   51|Judie Chipps_Clem...|        120|              42.5|\n",
      "| 29|Female|       Kena Wild|   DSA|102285|   35|Dustin Feagins_Ma...|        120|29.166666666666668|\n",
      "| 29|  Male| Ernest Rossbach|    DB|111449|   53|Maybell Duguay_Ab...|        120|44.166666666666664|\n",
      "| 28|Female|  Latia Vanhoose|    DB|122502|   27|Latia Vanhoose_Mi...|        120|              22.5|\n",
      "| 29|Female|  Latia Vanhoose|   MVC|132110|   55|Eda Neathery_Nico...|        120| 45.83333333333333|\n",
      "| 29|  Male|     Neda Briski|    PF|141770|   42|Margene Moores_Mi...|        120|              35.0|\n",
      "| 29|Female|  Latia Vanhoose|    DB|152159|   27|Claude Panos_Sant...|        120|              22.5|\n",
      "| 29|  Male|  Loris Crossett|   MVC|161771|   36|Mitzi Seldon_Jenn...|        120|              30.0|\n",
      "| 29|  Male|  Annika Hoffman|   OOP|171660|   22|Taryn Brownlee_Mi...|        120|18.333333333333332|\n",
      "| 29|  Male|   Santa Kerfien|    PF|182129|   56|Judie Chipps_Tary...|        120|46.666666666666664|\n",
      "| 28|Female|Mickey Cortright|    DB|192537|   62|Ernest Rossbach_M...|        120| 51.66666666666667|\n",
      "+---+------+----------------+------+------+-----+--------------------+-----------+------------------+\n",
      "only showing top 20 rows\n",
      "\n"
     ]
    }
   ],
   "source": [
    "#2.) create a new column average to calculate the average marks of the student. (marks/total marks)*100\n",
    "df_average = df_marks.withColumn('Average', (col('marks')/col('Total Marks'))*100)\n",
    "df_average.show()"
   ]
  },
  {
   "cell_type": "code",
   "execution_count": 7,
   "metadata": {},
   "outputs": [
    {
     "name": "stdout",
     "output_type": "stream",
     "text": [
      "+---+------+------------------+------+-------+-----+--------------------+-----------+-----------------+\n",
      "|age|gender|              name|course|   roll|marks|               email|Total Marks|          Average|\n",
      "+---+------+------------------+------+-------+-----+--------------------+-----------+-----------------+\n",
      "| 28|  Male|    Jenna Montague|   OOP|3331161|   98|Leontine Phillips...|        120|81.66666666666667|\n",
      "| 29|Female|Priscila Tavernier|   OOP|3902993|   99|Celeste Lollis_Bi...|        120|             82.5|\n",
      "| 28|Female|      Judie Chipps|   OOP|5451977|   99|Tamera Blakley_Mi...|        120|             82.5|\n",
      "| 29|  Male|    Margene Moores|   OOP|5621072|   97|Sheryll Towler_Ma...|        120|80.83333333333333|\n",
      "| 29|  Male|      Jc Andrepont|   OOP|8022618|   97|Cordie Harnois_Ja...|        120|80.83333333333333|\n",
      "| 28|  Male|    Loris Crossett|   OOP|8172914|   98|Paris Hutton_Pari...|        120|81.66666666666667|\n",
      "| 28|  Male|    Loris Crossett|   OOP|9692316|   99|Judie Chipps_Mich...|        120|             82.5|\n",
      "+---+------+------------------+------+-------+-----+--------------------+-----------+-----------------+\n",
      "\n"
     ]
    }
   ],
   "source": [
    "# filter out all the students who have achieved more than 80% marks in OOP course and save it as new df\n",
    "df_oop = df_average.filter((df_average.Average>80) & (df_average.course=='OOP'))\n",
    "df_oop.show()"
   ]
  },
  {
   "cell_type": "code",
   "execution_count": 8,
   "metadata": {},
   "outputs": [
    {
     "name": "stdout",
     "output_type": "stream",
     "text": [
      "+---+------+-----------------+------+-------+-----+--------------------+-----------+-----------------+\n",
      "|age|gender|             name|course|   roll|marks|               email|Total Marks|          Average|\n",
      "+---+------+-----------------+------+-------+-----+--------------------+-----------+-----------------+\n",
      "| 28|Female|     Claude Panos| Cloud|  72409|   85|Sheryll Towler_Al...|        120|70.83333333333334|\n",
      "| 29|  Male|      Billi Clore| Cloud| 512047|   76|Taryn Brownlee_Ju...|        120|63.33333333333333|\n",
      "| 28|Female|   Somer Stoecker| Cloud| 612490|   82|Sebrina Maresca_G...|        120|68.33333333333333|\n",
      "| 29|Female|     Judie Chipps| Cloud| 632793|   75|Tijuana Kropf_Ele...|        120|             62.5|\n",
      "| 29|Female|     Eda Neathery| Cloud|1011971|   91|Margene Moores_El...|        120|75.83333333333333|\n",
      "| 28|  Male|   Bonita Higuera| Cloud|1312294|   94|Eda Neathery_Pris...|        120|78.33333333333333|\n",
      "| 29|Female|  Hubert Oliveras| Cloud|1392791|   94|Anna Santos_Alber...|        120|78.33333333333333|\n",
      "| 28|Female|      Neda Briski| Cloud|1651303|   74|Ernest Rossbach_D...|        120|61.66666666666667|\n",
      "| 28|Female|   Melani Engberg| Cloud|1872667|   99|Alberta Freund_Ni...|        120|             82.5|\n",
      "| 28|Female|     Paris Hutton| Cloud|2051881|   79|Melani Engberg_Ma...|        120|65.83333333333333|\n",
      "| 28|Female|     Eda Neathery| Cloud|2071302|   95|Latia Vanhoose_Do...|        120|79.16666666666666|\n",
      "| 28|  Male|      Neda Briski| Cloud|2092176|   81|Celeste Lollis_Ma...|        120|             67.5|\n",
      "| 28|Female|    Tijuana Kropf| Cloud|2121632|   78|Michelle Ruggiero...|        120|             65.0|\n",
      "| 28|Female|   Jenna Montague| Cloud|2402240|   96|Annika Hoffman_Du...|        120|             80.0|\n",
      "| 29|Female|   Dustin Feagins| Cloud|2421900|   89|Niki Klimek_Latia...|        120|74.16666666666667|\n",
      "| 28|Female|  Ernest Rossbach| Cloud|2602027|   83|Alberta Freund_Go...|        120|69.16666666666667|\n",
      "| 28|  Male|Leontine Phillips| Cloud|3011586|   76|Dustin Feagins_Al...|        120|63.33333333333333|\n",
      "| 29|Female|  Sebrina Maresca| Cloud|3261159|   97|Maybell Duguay_Ja...|        120|80.83333333333333|\n",
      "| 28|  Male| Clementina Menke| Cloud|3352508|   95|Naoma Fritts_Mick...|        120|79.16666666666666|\n",
      "| 28|  Male|    Kizzy Brenner| Cloud|3581303|   80|Margene Moores_Ta...|        120|66.66666666666666|\n",
      "+---+------+-----------------+------+-------+-----+--------------------+-----------+-----------------+\n",
      "only showing top 20 rows\n",
      "\n"
     ]
    }
   ],
   "source": [
    "#4.) filter out all the students who have achieved more than 60% marks in Cloud course and save it as new df\n",
    "df_cloud = df_average.filter((df_average.Average>60) & (df_average.course =='Cloud'))\n",
    "df_cloud.show()"
   ]
  },
  {
   "cell_type": "code",
   "execution_count": 9,
   "metadata": {},
   "outputs": [
    {
     "name": "stdout",
     "output_type": "stream",
     "text": [
      "+------------------+-----+\n",
      "|              name|marks|\n",
      "+------------------+-----+\n",
      "|    Jenna Montague|   98|\n",
      "|Priscila Tavernier|   99|\n",
      "|      Judie Chipps|   99|\n",
      "|    Margene Moores|   97|\n",
      "|      Jc Andrepont|   97|\n",
      "|    Loris Crossett|   98|\n",
      "|    Loris Crossett|   99|\n",
      "+------------------+-----+\n",
      "\n"
     ]
    }
   ],
   "source": [
    "#5.) print the name and marks of all the students from above DFs\n",
    "df_oop.select('name', 'marks').show()"
   ]
  },
  {
   "cell_type": "code",
   "execution_count": 11,
   "metadata": {},
   "outputs": [
    {
     "name": "stdout",
     "output_type": "stream",
     "text": [
      "+-----------------+-----+\n",
      "|             name|marks|\n",
      "+-----------------+-----+\n",
      "|     Claude Panos|   85|\n",
      "|      Billi Clore|   76|\n",
      "|   Somer Stoecker|   82|\n",
      "|     Judie Chipps|   75|\n",
      "|     Eda Neathery|   91|\n",
      "|   Bonita Higuera|   94|\n",
      "|  Hubert Oliveras|   94|\n",
      "|      Neda Briski|   74|\n",
      "|   Melani Engberg|   99|\n",
      "|     Paris Hutton|   79|\n",
      "|     Eda Neathery|   95|\n",
      "|      Neda Briski|   81|\n",
      "|    Tijuana Kropf|   78|\n",
      "|   Jenna Montague|   96|\n",
      "|   Dustin Feagins|   89|\n",
      "|  Ernest Rossbach|   83|\n",
      "|Leontine Phillips|   76|\n",
      "|  Sebrina Maresca|   97|\n",
      "| Clementina Menke|   95|\n",
      "|    Kizzy Brenner|   80|\n",
      "+-----------------+-----+\n",
      "only showing top 20 rows\n",
      "\n"
     ]
    }
   ],
   "source": [
    "#5.) print the name and marks of all the students from above DFs\n",
    "df_cloud.select('name', 'marks').show()"
   ]
  }
 ],
 "metadata": {
  "interpreter": {
   "hash": "b6ae95255180e0a1b2487c1ac8c002b2efdb0f360c419980d982719640716e99"
  },
  "kernelspec": {
   "display_name": "Python 3.8.8 64-bit ('base': conda)",
   "name": "python3"
  },
  "language_info": {
   "codemirror_mode": {
    "name": "ipython",
    "version": 3
   },
   "file_extension": ".py",
   "mimetype": "text/x-python",
   "name": "python",
   "nbconvert_exporter": "python",
   "pygments_lexer": "ipython3",
   "version": "3.8.8"
  },
  "orig_nbformat": 4
 },
 "nbformat": 4,
 "nbformat_minor": 2
}
