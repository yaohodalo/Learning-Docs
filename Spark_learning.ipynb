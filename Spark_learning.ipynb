{
 "cells": [
  {
   "cell_type": "code",
   "execution_count": 1,
   "metadata": {},
   "outputs": [],
   "source": [
    "import pandas as PD # library Pandas\n",
    "from pyspark.sql import SparkSession # to start using dfs\n",
    "from pyspark.sql.types import StringType, NumericType, StructField, StructType, IntegerType #. Data types\n",
    "from pyspark.sql.functions import *  #import functions\n",
    "from pyspark import SparkContext, SparkConf # this is for rdds"
   ]
  },
  {
   "cell_type": "code",
   "execution_count": 2,
   "metadata": {},
   "outputs": [],
   "source": [
    "#method getOrcreate is called in order to create a sesion\n",
    "spark = SparkSession.builder.appName('home-work').getOrCreate()"
   ]
  },
  {
   "cell_type": "code",
   "execution_count": 3,
   "metadata": {},
   "outputs": [
    {
     "name": "stdout",
     "output_type": "stream",
     "text": [
      "root\n",
      " |-- age: integer (nullable = true)\n",
      " |-- gender: string (nullable = true)\n",
      " |-- name: string (nullable = true)\n",
      " |-- course: string (nullable = true)\n",
      " |-- roll: integer (nullable = true)\n",
      " |-- marks: integer (nullable = true)\n",
      " |-- email: string (nullable = true)\n",
      "\n",
      "+---+------+----------------+------+------+-----+--------------------+\n",
      "|age|gender|            name|course|  roll|marks|               email|\n",
      "+---+------+----------------+------+------+-----+--------------------+\n",
      "| 28|Female| Hubert Oliveras|    DB|  2984|   59|Annika Hoffman_Na...|\n",
      "| 29|Female|Toshiko Hillyard| Cloud| 12899|   62|Margene Moores_Ma...|\n",
      "| 28|  Male|  Celeste Lollis|    PF| 21267|   45|Jeannetta Golden_...|\n",
      "| 29|Female|    Elenore Choy|    DB| 32877|   29|Billi Clore_Mitzi...|\n",
      "| 28|  Male|  Sheryll Towler|   DSA| 41487|   41|Claude Panos_Judi...|\n",
      "| 28|  Male|  Margene Moores|   MVC| 52771|   32|Toshiko Hillyard_...|\n",
      "| 28|  Male|     Neda Briski|   OOP| 61973|   69|Alberta Freund_El...|\n",
      "| 28|Female|    Claude Panos| Cloud| 72409|   85|Sheryll Towler_Al...|\n",
      "| 28|  Male|  Celeste Lollis|   MVC| 81492|   64|Nicole Harwood_Cl...|\n",
      "| 29|  Male|  Cordie Harnois|   OOP| 92882|   51|Judie Chipps_Clem...|\n",
      "| 29|Female|       Kena Wild|   DSA|102285|   35|Dustin Feagins_Ma...|\n",
      "| 29|  Male| Ernest Rossbach|    DB|111449|   53|Maybell Duguay_Ab...|\n",
      "| 28|Female|  Latia Vanhoose|    DB|122502|   27|Latia Vanhoose_Mi...|\n",
      "| 29|Female|  Latia Vanhoose|   MVC|132110|   55|Eda Neathery_Nico...|\n",
      "| 29|  Male|     Neda Briski|    PF|141770|   42|Margene Moores_Mi...|\n",
      "| 29|Female|  Latia Vanhoose|    DB|152159|   27|Claude Panos_Sant...|\n",
      "| 29|  Male|  Loris Crossett|   MVC|161771|   36|Mitzi Seldon_Jenn...|\n",
      "| 29|  Male|  Annika Hoffman|   OOP|171660|   22|Taryn Brownlee_Mi...|\n",
      "| 29|  Male|   Santa Kerfien|    PF|182129|   56|Judie Chipps_Tary...|\n",
      "| 28|Female|Mickey Cortright|    DB|192537|   62|Ernest Rossbach_M...|\n",
      "+---+------+----------------+------+------+-----+--------------------+\n",
      "only showing top 20 rows\n",
      "\n"
     ]
    }
   ],
   "source": [
    "#file-test is the data file and spark.read allows to read the file\n",
    "file_test = '/SPARK/data/studentData.csv'\n",
    "df= spark.read.options(inferSchema='True', header='True').csv(file_test)\n",
    "df.printSchema() \n",
    "df.show() # or can use df.toPandas() \n"
   ]
  },
  {
   "cell_type": "code",
   "execution_count": 4,
   "metadata": {},
   "outputs": [],
   "source": [
    "#I tried to modify a datatype in this schema\n",
    "schema= StructType([\n",
    "    StructField('age', IntegerType(), True),\n",
    "    StructField('gender', StringType(), True),\n",
    "    StructField('name', StringType(), True),\n",
    "    StructField('course', StringType(), True),\n",
    "    StructField('roll',StringType(), True),\n",
    "    StructField('marks', IntegerType(),True),\n",
    "    StructField('email',StringType(),True)\n",
    "])\n"
   ]
  },
  {
   "cell_type": "code",
   "execution_count": 5,
   "metadata": {},
   "outputs": [
    {
     "name": "stdout",
     "output_type": "stream",
     "text": [
      "root\n",
      " |-- age: string (nullable = true)\n",
      " |-- gender: string (nullable = true)\n",
      " |-- name: string (nullable = true)\n",
      " |-- course: string (nullable = true)\n",
      " |-- roll: string (nullable = true)\n",
      " |-- marks: string (nullable = true)\n",
      " |-- email: string (nullable = true)\n",
      "\n"
     ]
    },
    {
     "data": {
      "text/html": [
       "<div>\n",
       "<style scoped>\n",
       "    .dataframe tbody tr th:only-of-type {\n",
       "        vertical-align: middle;\n",
       "    }\n",
       "\n",
       "    .dataframe tbody tr th {\n",
       "        vertical-align: top;\n",
       "    }\n",
       "\n",
       "    .dataframe thead th {\n",
       "        text-align: right;\n",
       "    }\n",
       "</style>\n",
       "<table border=\"1\" class=\"dataframe\">\n",
       "  <thead>\n",
       "    <tr style=\"text-align: right;\">\n",
       "      <th></th>\n",
       "      <th>age</th>\n",
       "      <th>gender</th>\n",
       "      <th>name</th>\n",
       "      <th>course</th>\n",
       "      <th>roll</th>\n",
       "      <th>marks</th>\n",
       "      <th>email</th>\n",
       "    </tr>\n",
       "  </thead>\n",
       "  <tbody>\n",
       "    <tr>\n",
       "      <th>0</th>\n",
       "      <td>28</td>\n",
       "      <td>Female</td>\n",
       "      <td>Hubert Oliveras</td>\n",
       "      <td>DB</td>\n",
       "      <td>02984</td>\n",
       "      <td>59</td>\n",
       "      <td>Annika Hoffman_Naoma Fritts@OOP.com</td>\n",
       "    </tr>\n",
       "    <tr>\n",
       "      <th>1</th>\n",
       "      <td>29</td>\n",
       "      <td>Female</td>\n",
       "      <td>Toshiko Hillyard</td>\n",
       "      <td>Cloud</td>\n",
       "      <td>12899</td>\n",
       "      <td>62</td>\n",
       "      <td>Margene Moores_Marylee Capasso@DB.com</td>\n",
       "    </tr>\n",
       "    <tr>\n",
       "      <th>2</th>\n",
       "      <td>28</td>\n",
       "      <td>Male</td>\n",
       "      <td>Celeste Lollis</td>\n",
       "      <td>PF</td>\n",
       "      <td>21267</td>\n",
       "      <td>45</td>\n",
       "      <td>Jeannetta Golden_Jenna Montague@DSA.com</td>\n",
       "    </tr>\n",
       "    <tr>\n",
       "      <th>3</th>\n",
       "      <td>29</td>\n",
       "      <td>Female</td>\n",
       "      <td>Elenore Choy</td>\n",
       "      <td>DB</td>\n",
       "      <td>32877</td>\n",
       "      <td>29</td>\n",
       "      <td>Billi Clore_Mitzi Seldon@DB.com</td>\n",
       "    </tr>\n",
       "    <tr>\n",
       "      <th>4</th>\n",
       "      <td>28</td>\n",
       "      <td>Male</td>\n",
       "      <td>Sheryll Towler</td>\n",
       "      <td>DSA</td>\n",
       "      <td>41487</td>\n",
       "      <td>41</td>\n",
       "      <td>Claude Panos_Judie Chipps@OOP.com</td>\n",
       "    </tr>\n",
       "    <tr>\n",
       "      <th>...</th>\n",
       "      <td>...</td>\n",
       "      <td>...</td>\n",
       "      <td>...</td>\n",
       "      <td>...</td>\n",
       "      <td>...</td>\n",
       "      <td>...</td>\n",
       "      <td>...</td>\n",
       "    </tr>\n",
       "    <tr>\n",
       "      <th>995</th>\n",
       "      <td>28</td>\n",
       "      <td>Female</td>\n",
       "      <td>Celeste Lollis</td>\n",
       "      <td>DB</td>\n",
       "      <td>9952416</td>\n",
       "      <td>59</td>\n",
       "      <td>Gonzalo Ferebee_Jalisa Swenson@DB.com</td>\n",
       "    </tr>\n",
       "    <tr>\n",
       "      <th>996</th>\n",
       "      <td>29</td>\n",
       "      <td>Female</td>\n",
       "      <td>Somer Stoecker</td>\n",
       "      <td>Cloud</td>\n",
       "      <td>9962277</td>\n",
       "      <td>84</td>\n",
       "      <td>Clementina Menke_Paris Hutton@OOP.com</td>\n",
       "    </tr>\n",
       "    <tr>\n",
       "      <th>997</th>\n",
       "      <td>28</td>\n",
       "      <td>Male</td>\n",
       "      <td>Tamera Blakley</td>\n",
       "      <td>DSA</td>\n",
       "      <td>9971217</td>\n",
       "      <td>26</td>\n",
       "      <td>Anna Santos_Claude Panos@PF.com</td>\n",
       "    </tr>\n",
       "    <tr>\n",
       "      <th>998</th>\n",
       "      <td>28</td>\n",
       "      <td>Female</td>\n",
       "      <td>Tamera Blakley</td>\n",
       "      <td>MVC</td>\n",
       "      <td>9982779</td>\n",
       "      <td>71</td>\n",
       "      <td>Toshiko Hillyard_Anna Santos@DSA.com</td>\n",
       "    </tr>\n",
       "    <tr>\n",
       "      <th>999</th>\n",
       "      <td>29</td>\n",
       "      <td>Female</td>\n",
       "      <td>Jenna Montague</td>\n",
       "      <td>PF</td>\n",
       "      <td>9991617</td>\n",
       "      <td>23</td>\n",
       "      <td>Anna Santos_Jenna Montague@DB.com</td>\n",
       "    </tr>\n",
       "  </tbody>\n",
       "</table>\n",
       "<p>1000 rows × 7 columns</p>\n",
       "</div>"
      ],
      "text/plain": [
       "    age  gender              name course     roll marks  \\\n",
       "0    28  Female   Hubert Oliveras     DB    02984    59   \n",
       "1    29  Female  Toshiko Hillyard  Cloud    12899    62   \n",
       "2    28    Male    Celeste Lollis     PF    21267    45   \n",
       "3    29  Female      Elenore Choy     DB    32877    29   \n",
       "4    28    Male    Sheryll Towler    DSA    41487    41   \n",
       "..   ..     ...               ...    ...      ...   ...   \n",
       "995  28  Female    Celeste Lollis     DB  9952416    59   \n",
       "996  29  Female    Somer Stoecker  Cloud  9962277    84   \n",
       "997  28    Male    Tamera Blakley    DSA  9971217    26   \n",
       "998  28  Female    Tamera Blakley    MVC  9982779    71   \n",
       "999  29  Female    Jenna Montague     PF  9991617    23   \n",
       "\n",
       "                                       email  \n",
       "0        Annika Hoffman_Naoma Fritts@OOP.com  \n",
       "1      Margene Moores_Marylee Capasso@DB.com  \n",
       "2    Jeannetta Golden_Jenna Montague@DSA.com  \n",
       "3            Billi Clore_Mitzi Seldon@DB.com  \n",
       "4          Claude Panos_Judie Chipps@OOP.com  \n",
       "..                                       ...  \n",
       "995    Gonzalo Ferebee_Jalisa Swenson@DB.com  \n",
       "996    Clementina Menke_Paris Hutton@OOP.com  \n",
       "997          Anna Santos_Claude Panos@PF.com  \n",
       "998     Toshiko Hillyard_Anna Santos@DSA.com  \n",
       "999        Anna Santos_Jenna Montague@DB.com  \n",
       "\n",
       "[1000 rows x 7 columns]"
      ]
     },
     "execution_count": 5,
     "metadata": {},
     "output_type": "execute_result"
    }
   ],
   "source": [
    "#Since I changed something in the schema, i need to read the file again\n",
    "df= spark.read.options(header='true', schema=schema).csv(file_test)\n",
    "df.printSchema()\n",
    "df.toPandas()"
   ]
  },
  {
   "cell_type": "code",
   "execution_count": 6,
   "metadata": {},
   "outputs": [
    {
     "name": "stdout",
     "output_type": "stream",
     "text": [
      "+---+----------------+--------------------+\n",
      "|age|            name|               email|\n",
      "+---+----------------+--------------------+\n",
      "| 28| Hubert Oliveras|Annika Hoffman_Na...|\n",
      "| 29|Toshiko Hillyard|Margene Moores_Ma...|\n",
      "| 28|  Celeste Lollis|Jeannetta Golden_...|\n",
      "| 29|    Elenore Choy|Billi Clore_Mitzi...|\n",
      "| 28|  Sheryll Towler|Claude Panos_Judi...|\n",
      "| 28|  Margene Moores|Toshiko Hillyard_...|\n",
      "| 28|     Neda Briski|Alberta Freund_El...|\n",
      "| 28|    Claude Panos|Sheryll Towler_Al...|\n",
      "| 28|  Celeste Lollis|Nicole Harwood_Cl...|\n",
      "| 29|  Cordie Harnois|Judie Chipps_Clem...|\n",
      "| 29|       Kena Wild|Dustin Feagins_Ma...|\n",
      "| 29| Ernest Rossbach|Maybell Duguay_Ab...|\n",
      "| 28|  Latia Vanhoose|Latia Vanhoose_Mi...|\n",
      "| 29|  Latia Vanhoose|Eda Neathery_Nico...|\n",
      "| 29|     Neda Briski|Margene Moores_Mi...|\n",
      "| 29|  Latia Vanhoose|Claude Panos_Sant...|\n",
      "| 29|  Loris Crossett|Mitzi Seldon_Jenn...|\n",
      "| 29|  Annika Hoffman|Taryn Brownlee_Mi...|\n",
      "| 29|   Santa Kerfien|Judie Chipps_Tary...|\n",
      "| 28|Mickey Cortright|Ernest Rossbach_M...|\n",
      "+---+----------------+--------------------+\n",
      "only showing top 20 rows\n",
      "\n"
     ]
    }
   ],
   "source": [
    "#how to select some columns from the data\n",
    "df.select(df.age, df.name, df.email).show()"
   ]
  },
  {
   "cell_type": "code",
   "execution_count": 7,
   "metadata": {},
   "outputs": [
    {
     "name": "stdout",
     "output_type": "stream",
     "text": [
      "+---+------+---------------+------+-------+-----+--------------------+\n",
      "|age|gender|           name|course|   roll|marks|               email|\n",
      "+---+------+---------------+------+-------+-----+--------------------+\n",
      "| 29|Female| Somer Stoecker| Cloud| 442028|   34|Taryn Brownlee_Ta...|\n",
      "| 29|  Male| Nicole Harwood|   MVC|1761454|   34|Taryn Brownlee_Bi...|\n",
      "| 29|  Male|   Naoma Fritts|   MVC|3021768|   34|Bonita Higuera_An...|\n",
      "| 29|Female|    Donna Yerby|    PF|3672856|   34|Alberta Freund_Cl...|\n",
      "| 29|  Male| Sheryll Towler|   MVC|4041358|   34|Sheryll Towler_Cl...|\n",
      "| 29|Female|   Paris Hutton|    DB|6052159|   34|Priscila Tavernie...|\n",
      "| 29|Female|Ernest Rossbach|   DSA|8262618|   34|Billi Clore_Cleme...|\n",
      "+---+------+---------------+------+-------+-----+--------------------+\n",
      "\n"
     ]
    }
   ],
   "source": [
    "#filter on age and marks where age > 28 and marks = 34\n",
    "df.filter('age> 28 and marks == 34').show()"
   ]
  },
  {
   "cell_type": "code",
   "execution_count": 8,
   "metadata": {},
   "outputs": [
    {
     "name": "stdout",
     "output_type": "stream",
     "text": [
      "+---+------------------+\n",
      "|age|        avg(marks)|\n",
      "+---+------------------+\n",
      "| 28|60.487854251012145|\n",
      "| 29|59.715415019762844|\n",
      "+---+------------------+\n",
      "\n"
     ]
    }
   ],
   "source": [
    "#df groupby and orderby and aggregation together to fing the average \n",
    "df.groupby('age').agg({'marks':'mean'}).orderBy('age').show()"
   ]
  },
  {
   "cell_type": "code",
   "execution_count": 9,
   "metadata": {},
   "outputs": [
    {
     "name": "stdout",
     "output_type": "stream",
     "text": [
      "+---+------+------------------+------+-------+-----+--------------------+\n",
      "|age|gender|              name|course|   roll|marks|               email|\n",
      "+---+------+------------------+------+-------+-----+--------------------+\n",
      "| 29|Female|    Latia Vanhoose|   MVC|3091650|   30|Cordie Harnois_Se...|\n",
      "| 29|Female|       Abram Nagao|    PF|9711154|   23|Judie Chipps_Naom...|\n",
      "| 29|Female|    Dustin Feagins| Cloud|2421900|   89|Niki Klimek_Latia...|\n",
      "| 28|Female|      Elenore Choy| Cloud|4711825|   54|Alberta Freund_Ti...|\n",
      "| 28|  Male|      Elenore Choy|    PF| 422704|   66|Marylee Capasso_N...|\n",
      "| 28|Female|      Claude Panos|   OOP|2061187|   58|Cheri Kenney_Cord...|\n",
      "| 29|  Male| Michelle Ruggiero|   OOP|4222829|   96|Kena Wild_Jalisa ...|\n",
      "| 29|Female|   Ernest Rossbach|    DB|9371629|   96|Melani Engberg_La...|\n",
      "| 28|  Male|Priscila Tavernier|    PF| 642594|   27|Marylee Capasso_C...|\n",
      "| 28|  Male|    Somer Stoecker| Cloud|1891261|   30|Taryn Brownlee_Sh...|\n",
      "| 28|Female|      Eda Neathery| Cloud|2071302|   95|Latia Vanhoose_Do...|\n",
      "| 29|  Male|     Kizzy Brenner|    PF|3512215|   50|Naoma Fritts_Mela...|\n",
      "| 29|  Male|    Alberta Freund| Cloud|8671926|   85|Paris Hutton_Some...|\n",
      "| 28|Female|    Nicole Harwood| Cloud|8862840|   67|Claude Panos_Clau...|\n",
      "| 28|Female|    Tamera Blakley|    PF|1591554|   78|Sebrina Maresca_T...|\n",
      "| 29|  Male| Leontine Phillips|    PF|2832158|   26|Margene Moores_Cl...|\n",
      "| 29|  Male|       Donna Yerby|    PF|3282057|   87|Kizzy Brenner_Lor...|\n",
      "| 28|Female|    Annika Hoffman|   DSA|4162718|   63|Gonzalo Ferebee_B...|\n",
      "| 29|  Male|   Ernest Rossbach|    DB|4411585|   50|Marylee Capasso_L...|\n",
      "| 28|Female|       Billi Clore|   DSA|4881063|   86|Eda Neathery_Cord...|\n",
      "+---+------+------------------+------+-------+-----+--------------------+\n",
      "only showing top 20 rows\n",
      "\n"
     ]
    }
   ],
   "source": [
    "#drop column or duplicates\n",
    "df.drop_duplicates().show()"
   ]
  },
  {
   "cell_type": "code",
   "execution_count": 10,
   "metadata": {},
   "outputs": [
    {
     "name": "stdout",
     "output_type": "stream",
     "text": [
      "+---+------+----------------+------+------+-----+\n",
      "|age|gender|            name|course|  roll|marks|\n",
      "+---+------+----------------+------+------+-----+\n",
      "| 28|Female| Hubert Oliveras|    DB| 02984|   59|\n",
      "| 29|Female|Toshiko Hillyard| Cloud| 12899|   62|\n",
      "| 28|  Male|  Celeste Lollis|    PF| 21267|   45|\n",
      "| 29|Female|    Elenore Choy|    DB| 32877|   29|\n",
      "| 28|  Male|  Sheryll Towler|   DSA| 41487|   41|\n",
      "| 28|  Male|  Margene Moores|   MVC| 52771|   32|\n",
      "| 28|  Male|     Neda Briski|   OOP| 61973|   69|\n",
      "| 28|Female|    Claude Panos| Cloud| 72409|   85|\n",
      "| 28|  Male|  Celeste Lollis|   MVC| 81492|   64|\n",
      "| 29|  Male|  Cordie Harnois|   OOP| 92882|   51|\n",
      "| 29|Female|       Kena Wild|   DSA|102285|   35|\n",
      "| 29|  Male| Ernest Rossbach|    DB|111449|   53|\n",
      "| 28|Female|  Latia Vanhoose|    DB|122502|   27|\n",
      "| 29|Female|  Latia Vanhoose|   MVC|132110|   55|\n",
      "| 29|  Male|     Neda Briski|    PF|141770|   42|\n",
      "| 29|Female|  Latia Vanhoose|    DB|152159|   27|\n",
      "| 29|  Male|  Loris Crossett|   MVC|161771|   36|\n",
      "| 29|  Male|  Annika Hoffman|   OOP|171660|   22|\n",
      "| 29|  Male|   Santa Kerfien|    PF|182129|   56|\n",
      "| 28|Female|Mickey Cortright|    DB|192537|   62|\n",
      "+---+------+----------------+------+------+-----+\n",
      "only showing top 20 rows\n",
      "\n"
     ]
    }
   ],
   "source": [
    "df.drop('email').show()"
   ]
  },
  {
   "cell_type": "markdown",
   "metadata": {},
   "source": []
  },
  {
   "cell_type": "code",
   "execution_count": 68,
   "metadata": {},
   "outputs": [
    {
     "name": "stdout",
     "output_type": "stream",
     "text": [
      "+---+------+----------------+------+------+-----+--------------------+\n",
      "|age|gender|            name|course|  roll|marks|               email|\n",
      "+---+------+----------------+------+------+-----+--------------------+\n",
      "| 28|Female| Hubert Oliveras|    DB| 02984|   59|Annika Hoffman_Na...|\n",
      "| 29|Female|Toshiko Hillyard| Cloud| 12899|   62|Margene Moores_Ma...|\n",
      "| 28|  Male|  Celeste Lollis|    PF| 21267|   45|Jeannetta Golden_...|\n",
      "| 29|Female|    Elenore Choy|    DB| 32877|   29|Billi Clore_Mitzi...|\n",
      "| 28|  Male|  Sheryll Towler|   DSA| 41487|   41|Claude Panos_Judi...|\n",
      "| 28|  Male|  Margene Moores|   MVC| 52771|   32|Toshiko Hillyard_...|\n",
      "| 28|  Male|     Neda Briski|   OOP| 61973|   69|Alberta Freund_El...|\n",
      "| 28|Female|    Claude Panos| Cloud| 72409|   85|Sheryll Towler_Al...|\n",
      "| 28|  Male|  Celeste Lollis|   MVC| 81492|   64|Nicole Harwood_Cl...|\n",
      "| 29|  Male|  Cordie Harnois|   OOP| 92882|   51|Judie Chipps_Clem...|\n",
      "| 29|Female|       Kena Wild|   DSA|102285|   35|Dustin Feagins_Ma...|\n",
      "| 29|  Male| Ernest Rossbach|    DB|111449|   53|Maybell Duguay_Ab...|\n",
      "| 28|Female|  Latia Vanhoose|    DB|122502|   27|Latia Vanhoose_Mi...|\n",
      "| 29|Female|  Latia Vanhoose|   MVC|132110|   55|Eda Neathery_Nico...|\n",
      "| 29|  Male|     Neda Briski|    PF|141770|   42|Margene Moores_Mi...|\n",
      "| 29|Female|  Latia Vanhoose|    DB|152159|   27|Claude Panos_Sant...|\n",
      "| 29|  Male|  Loris Crossett|   MVC|161771|   36|Mitzi Seldon_Jenn...|\n",
      "| 29|  Male|  Annika Hoffman|   OOP|171660|   22|Taryn Brownlee_Mi...|\n",
      "| 29|  Male|   Santa Kerfien|    PF|182129|   56|Judie Chipps_Tary...|\n",
      "| 28|Female|Mickey Cortright|    DB|192537|   62|Ernest Rossbach_M...|\n",
      "+---+------+----------------+------+------+-----+--------------------+\n",
      "only showing top 20 rows\n",
      "\n"
     ]
    }
   ],
   "source": [
    "# the createOrReplaceTempView change our table into an sql view\n",
    "df_sql = df.createOrReplaceTempView('studentDb')\n",
    "df_sql = spark.sql('SELECT * FROM studentDb').show()"
   ]
  },
  {
   "cell_type": "code",
   "execution_count": 69,
   "metadata": {},
   "outputs": [
    {
     "name": "stdout",
     "output_type": "stream",
     "text": [
      "+---+------+-----------------+------+-------+-----+--------------------+\n",
      "|age|gender|             name|course|   roll|marks|               email|\n",
      "+---+------+-----------------+------+-------+-----+--------------------+\n",
      "| 28|Female| Mickey Cortright|   OOP|4132027|   49|Santa Kerfien_Nic...|\n",
      "| 28|Female|     Judie Chipps|    DB|9451237|   49|Michelle Ruggiero...|\n",
      "| 28|Female|Leontine Phillips|    DB| 602404|   48|Neda Briski_Cheri...|\n",
      "| 28|  Male|      Neda Briski|    DB|6632463|   48|Sheryll Towler_Du...|\n",
      "| 28|Female| Clementina Menke|   OOP|8251736|   48|Tamera Blakley_Lo...|\n",
      "| 28|  Male|    Tijuana Kropf|   MVC|3212517|   48|Somer Stoecker_Mi...|\n",
      "| 28|Female| Lawanda Wohlwend|   OOP|9011862|   48|Jalisa Swenson_Go...|\n",
      "| 28|  Male|   Annika Hoffman|   MVC|6381719|   48|Ernest Rossbach_J...|\n",
      "| 28|  Male| Toshiko Hillyard|    DB| 392218|   47|Leontine Phillips...|\n",
      "| 28|  Male|  Hubert Oliveras|   MVC|7512833|   47|Loris Crossett_Je...|\n",
      "| 28|Female|     Mitzi Seldon|   OOP|4722700|   47|Naoma Fritts_Erne...|\n",
      "| 28|  Male|      Anna Santos|   OOP| 822396|   47|Leontine Phillips...|\n",
      "| 28|  Male|    Santa Kerfien|   OOP|8011750|   47|Mitzi Seldon_Some...|\n",
      "| 28|Female|     Claude Panos|    DB|4701534|   47|Somer Stoecker_Na...|\n",
      "| 28|  Male| Clementina Menke|   OOP|1341574|   46|Elenore Choy_Mick...|\n",
      "| 28|  Male|   Celeste Lollis|   DSA|4201845|   46|Gonzalo Ferebee_C...|\n",
      "| 28|Female| Toshiko Hillyard| Cloud|4982864|   46|Michelle Ruggiero...|\n",
      "| 28|Female| Clementina Menke| Cloud|7291419|   46|Bonita Higuera_Na...|\n",
      "| 28|Female|      Billi Clore| Cloud|6882495|   46|Claude Panos_Lati...|\n",
      "| 28|Female|     Eda Neathery|   MVC|7491443|   46|Neda Briski_Marge...|\n",
      "+---+------+-----------------+------+-------+-----+--------------------+\n",
      "only showing top 20 rows\n",
      "\n"
     ]
    }
   ],
   "source": [
    "#where and order by together\n",
    "df_sql = spark.sql('SELECT * FROM studentDb WHERE age==28 and marks < 50 order by marks desc').show()"
   ]
  }
 ],
 "metadata": {
  "interpreter": {
   "hash": "b6ae95255180e0a1b2487c1ac8c002b2efdb0f360c419980d982719640716e99"
  },
  "kernelspec": {
   "display_name": "Python 3.8.8 64-bit ('base': conda)",
   "name": "python3"
  },
  "language_info": {
   "codemirror_mode": {
    "name": "ipython",
    "version": 3
   },
   "file_extension": ".py",
   "mimetype": "text/x-python",
   "name": "python",
   "nbconvert_exporter": "python",
   "pygments_lexer": "ipython3",
   "version": "3.8.8"
  },
  "orig_nbformat": 4
 },
 "nbformat": 4,
 "nbformat_minor": 2
}
